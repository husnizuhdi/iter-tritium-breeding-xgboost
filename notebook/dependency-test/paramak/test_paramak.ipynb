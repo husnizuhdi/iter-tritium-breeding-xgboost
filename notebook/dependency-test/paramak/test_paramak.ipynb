{
 "cells": [
  {
   "cell_type": "markdown",
   "id": "49036c1a",
   "metadata": {
    "tags": []
   },
   "source": [
    "# Test Paramak Dependency"
   ]
  },
  {
   "cell_type": "code",
   "execution_count": 1,
   "id": "c0f37335",
   "metadata": {},
   "outputs": [
    {
     "name": "stdout",
     "output_type": "stream",
     "text": [
      "Overwriting auto display for cadquery Workplane and Shape\n"
     ]
    }
   ],
   "source": [
    "import openmc\n",
    "import paramak\n",
    "from jupyter_cadquery.cadquery import (PartGroup, Part, Edges, Faces, Vertices, show)\n",
    "from jupyter_cadquery import set_sidecar, set_defaults, reset_defaults"
   ]
  },
  {
   "cell_type": "code",
   "execution_count": 2,
   "id": "52c9c146",
   "metadata": {},
   "outputs": [],
   "source": [
    "red_part = paramak.ExtrudeMixedShape(\n",
    "    points=[\n",
    "        (-89.0, -50.0, 'straight'),\n",
    "        (-18.0, -50.0, 'straight'),\n",
    "        (30.0, 30.0, 'straight'),\n",
    "        (-12.0, 100.0, 'circle'),\n",
    "        (88.0, -50.0, 'circle'),\n",
    "    ],\n",
    "    distance=10,\n",
    "    color=(1,0,0),\n",
    "    name='red_part',\n",
    "    material_tag='red_part_mat',\n",
    "    stp_filename='red_part.stp',\n",
    "    stl_filename='red_part.stl',\n",
    ")"
   ]
  },
  {
   "cell_type": "code",
   "execution_count": 3,
   "id": "aad87db2",
   "metadata": {},
   "outputs": [],
   "source": [
    "grey_part = paramak.ExtrudeMixedShape(\n",
    "    points=[\n",
    "        (-96.5, -27.0, 'straight'),\n",
    "        (-30.0, -27.0, 'straight'),\n",
    "        (3.0, 30.0, 'straight'),\n",
    "        (-30.0, 87.0, 'straight'),\n",
    "        (-50.0, 87.0, 'straight'),\n",
    "        (-30.0, 87.0, 'circle'),\n",
    "        (-97.0, 30.0, 'circle'),\n",
    "    ],\n",
    "    distance=10,\n",
    "    color=(0.5,0.5,0.5),\n",
    "    name='grey_part',\n",
    "    material_tag='grey_part_mat',\n",
    "    stp_filename='grey_part.stp',\n",
    "    stl_filename='grey_part.stl',\n",
    ")"
   ]
  },
  {
   "cell_type": "code",
   "execution_count": 4,
   "id": "a4bbd2ae",
   "metadata": {
    "scrolled": true,
    "tags": []
   },
   "outputs": [],
   "source": [
    "both_parts = paramak.Reactor([red_part, grey_part])"
   ]
  },
  {
   "cell_type": "code",
   "execution_count": 5,
   "id": "eb9bc4f6",
   "metadata": {},
   "outputs": [
    {
     "name": "stdout",
     "output_type": "stream",
     "text": [
      "Saved file as  graveyard.stp\n"
     ]
    },
    {
     "data": {
      "text/plain": [
       "['red_part.stp', 'grey_part.stp', 'graveyard.stp']"
      ]
     },
     "execution_count": 5,
     "metadata": {},
     "output_type": "execute_result"
    }
   ],
   "source": [
    "# both_parts.export_stp(output_folder='0-trial-paramak-openmc')\n",
    "both_parts.export_stp()"
   ]
  },
  {
   "cell_type": "code",
   "execution_count": 6,
   "id": "31007e42-9bf2-40f8-b7f4-a0c453749786",
   "metadata": {},
   "outputs": [
    {
     "name": "stdout",
     "output_type": "stream",
     "text": [
      "Saved file as  red_part.stl\n",
      "Saved file as  grey_part.stl\n",
      "Saved file as  graveyard.stl\n"
     ]
    },
    {
     "data": {
      "text/plain": [
       "'dagmc.h5m'"
      ]
     },
     "execution_count": 6,
     "metadata": {},
     "output_type": "execute_result"
    }
   ],
   "source": [
    "# both_parts.export_h5m(output_folder='0-trial-paramak-openmc')\n",
    "both_parts.export_h5m()"
   ]
  },
  {
   "cell_type": "code",
   "execution_count": 8,
   "id": "929bdaac-fa17-4774-89b0-ba2a26bf100d",
   "metadata": {},
   "outputs": [],
   "source": [
    "red_part_mat = openmc.Material(name=\"red_part_mat\")\n",
    "red_part_mat.add_nuclide('U235', 1.0, 'ao')\n",
    "red_part_mat.set_density('g/cc', 11)\n",
    "\n",
    "grey_part_mat = openmc.Material(name=\"grey_part_mat\")\n",
    "grey_part_mat.add_nuclide('H1', 2.0, 'ao')\n",
    "grey_part_mat.add_nuclide('O16', 1.0, 'ao')\n",
    "grey_part_mat.set_density('g/cc', 1.0)\n",
    "grey_part_mat.add_s_alpha_beta('c_H_in_H2O')\n",
    "\n",
    "mats = openmc.Materials([red_part_mat, grey_part_mat])\n",
    "mats.export_to_xml()"
   ]
  },
  {
   "cell_type": "code",
   "execution_count": 9,
   "id": "04fb1bfc-b5eb-4f9a-92f8-bf28bb1d4970",
   "metadata": {},
   "outputs": [],
   "source": [
    "dag_universe = openmc.DAGMCUniverse(filename=\"dagmc.h5m\")\n",
    "geom = openmc.Geometry(root=dag_universe)\n",
    "geom.export_to_xml()"
   ]
  },
  {
   "cell_type": "code",
   "execution_count": 10,
   "id": "57782227",
   "metadata": {},
   "outputs": [],
   "source": [
    "source = openmc.Source()\n",
    "source.space = openmc.stats.Point((0, 50, 0))\n",
    "source.energy = openmc.stats.Discrete([14e6], [1])\n",
    "source.angle = openmc.stats.Isotropic()"
   ]
  },
  {
   "cell_type": "code",
   "execution_count": 11,
   "id": "e811e3fa-1fec-4ac7-9c6c-014ef9592780",
   "metadata": {},
   "outputs": [],
   "source": [
    "settings = openmc.Settings()\n",
    "settings.dagmc = True\n",
    "settings.batches = 30\n",
    "settings.inactive = 5\n",
    "settings.particles = 10000\n",
    "settings.run_mode = 'eigenvalue'\n",
    "settings.source = source\n",
    "settings.export_to_xml()"
   ]
  },
  {
   "cell_type": "code",
   "execution_count": 12,
   "id": "49e83eac-ccbc-4d60-834a-2b1970835c40",
   "metadata": {},
   "outputs": [],
   "source": [
    "tally = openmc.Tally()\n",
    "tally.scores = ['total']\n",
    "tally.filters = [openmc.CellFilter(1)]\n",
    "tallies = openmc.Tallies([tally])\n",
    "tallies.export_to_xml()"
   ]
  },
  {
   "cell_type": "code",
   "execution_count": 13,
   "id": "a1d5d810-483b-4570-b370-2082abda5409",
   "metadata": {},
   "outputs": [
    {
     "data": {
      "image/png": "[encoded data removed]",
      "text/plain": [
       "<IPython.core.display.Image object>"
      ]
     },
     "metadata": {},
     "output_type": "display_data"
    }
   ],
   "source": [
    "p = openmc.Plot()\n",
    "p.basis = 'xz'\n",
    "p.width = (500.0, 500.0)\n",
    "p.pixels = (400, 400)\n",
    "p.color_by = 'material'\n",
    "openmc.plot_inline(p)"
   ]
  },
  {
   "cell_type": "code",
   "execution_count": 14,
   "id": "0f0e0a5f-0c73-4ca8-b346-ec36d8a1bfca",
   "metadata": {},
   "outputs": [
    {
     "name": "stdout",
     "output_type": "stream",
     "text": [
      "                                %%%%%%%%%%%%%%%\n",
      "                           %%%%%%%%%%%%%%%%%%%%%%%%\n",
      "                        %%%%%%%%%%%%%%%%%%%%%%%%%%%%%%\n",
      "                      %%%%%%%%%%%%%%%%%%%%%%%%%%%%%%%%%%\n",
      "                    %%%%%%%%%%%%%%%%%%%%%%%%%%%%%%%%%%%%%%\n",
      "                   %%%%%%%%%%%%%%%%%%%%%%%%%%%%%%%%%%%%%%%%\n",
      "                                    %%%%%%%%%%%%%%%%%%%%%%%%\n",
      "                                     %%%%%%%%%%%%%%%%%%%%%%%%\n",
      "                 ###############      %%%%%%%%%%%%%%%%%%%%%%%%\n",
      "                ##################     %%%%%%%%%%%%%%%%%%%%%%%\n",
      "                ###################     %%%%%%%%%%%%%%%%%%%%%%%\n",
      "                ####################     %%%%%%%%%%%%%%%%%%%%%%\n",
      "                #####################     %%%%%%%%%%%%%%%%%%%%%\n",
      "                ######################     %%%%%%%%%%%%%%%%%%%%\n",
      "                #######################     %%%%%%%%%%%%%%%%%%\n",
      "                 #######################     %%%%%%%%%%%%%%%%%\n",
      "                 ######################     %%%%%%%%%%%%%%%%%\n",
      "                  ####################     %%%%%%%%%%%%%%%%%\n",
      "                    #################     %%%%%%%%%%%%%%%%%\n",
      "                     ###############     %%%%%%%%%%%%%%%%\n",
      "                       ############     %%%%%%%%%%%%%%%\n",
      "                          ########     %%%%%%%%%%%%%%\n",
      "                                      %%%%%%%%%%%\n",
      "\n",
      "                   | The OpenMC Monte Carlo Code\n",
      "         Copyright | 2011-2021 MIT and OpenMC contributors\n",
      "           License | https://docs.openmc.org/en/latest/license.html\n",
      "           Version | 0.13.0-dev\n",
      "          Git SHA1 | 5c06e33b6bb041294b27dd248c7693d9063b8a96\n",
      "         Date/Time | 2021-08-17 17:42:20\n",
      "    OpenMP Threads | 4\n",
      "\n",
      " Reading settings XML file...\n",
      " Reading cross sections XML file...\n",
      " Reading materials XML file...\n",
      " Reading geometry XML file...\n",
      "Set overlap thickness = 0\n",
      "Set numerical precision = 0.001\n",
      "Loading file dagmc.h5m\n",
      "Initializing the GeomQueryTool...\n",
      "Using faceting tolerance: 0\n",
      "Building acceleration data structures...\n",
      "Implicit Complement assumed to be Vacuum\n",
      " Reading U235 from /home/husninaufalz/ND/endfb80_hdf5/U235.h5\n",
      " Reading H1 from /home/husninaufalz/ND/endfb80_hdf5/H1.h5\n",
      " Reading O16 from /home/husninaufalz/ND/endfb80_hdf5/O16.h5\n",
      " Reading c_H_in_H2O from /home/husninaufalz/ND/endfb80_hdf5/c_H_in_H2O.h5\n",
      " Minimum neutron data temperature: 294.0 K\n",
      " Maximum neutron data temperature: 294.0 K\n",
      " Reading tallies XML file...\n",
      " Preparing distributed cell instances...\n",
      " Writing summary.h5 file...\n",
      " Maximum neutron transport energy: 20000000.0 eV for H1\n",
      " Initializing source particles...\n",
      "\n",
      " ====================>     K EIGENVALUE SIMULATION     <====================\n",
      "\n",
      "  Bat./Gen.      k            Average k\n",
      "  =========   ========   ====================\n",
      "        1/1    0.34612\n",
      "        2/1    0.84599\n",
      "        3/1    0.87828\n",
      "        4/1    0.89416\n",
      "        5/1    0.90637\n",
      "        6/1    0.89920\n",
      "        7/1    0.90037    0.89979 +/- 0.00058\n",
      "        8/1    0.90955    0.90304 +/- 0.00327\n",
      "        9/1    0.89153    0.90016 +/- 0.00369\n",
      "       10/1    0.90094    0.90032 +/- 0.00286\n",
      "       11/1    0.91451    0.90268 +/- 0.00333\n",
      "       12/1    0.90704    0.90331 +/- 0.00288\n",
      "       13/1    0.90177    0.90311 +/- 0.00250\n",
      "       14/1    0.92296    0.90532 +/- 0.00312\n",
      "       15/1    0.90689    0.90548 +/- 0.00279\n",
      "       16/1    0.89731    0.90473 +/- 0.00263\n",
      "       17/1    0.91353    0.90547 +/- 0.00251\n",
      "       18/1    0.90588    0.90550 +/- 0.00231\n",
      "       19/1    0.91314    0.90604 +/- 0.00221\n",
      "       20/1    0.90301    0.90584 +/- 0.00207\n",
      "       21/1    0.90456    0.90576 +/- 0.00194\n",
      "       22/1    0.90929    0.90597 +/- 0.00183\n",
      "       23/1    0.90176    0.90574 +/- 0.00174\n",
      "       24/1    0.92349    0.90667 +/- 0.00189\n",
      "       25/1    0.91277    0.90698 +/- 0.00182\n",
      "       26/1    0.89875    0.90658 +/- 0.00178\n",
      "       27/1    0.90468    0.90650 +/- 0.00170\n",
      "       28/1    0.90188    0.90630 +/- 0.00163\n",
      "       29/1    0.91124    0.90650 +/- 0.00158\n",
      "       30/1    0.90609    0.90649 +/- 0.00151\n",
      " Creating state point statepoint.30.h5...\n",
      "\n",
      " =======================>     TIMING STATISTICS     <=======================\n",
      "\n",
      " Total time for initialization     = 7.5866e-01 seconds\n",
      "   Reading cross sections          = 6.0935e-01 seconds\n",
      " Total time in simulation          = 1.3399e+02 seconds\n",
      "   Time in transport only          = 1.3393e+02 seconds\n",
      "   Time in inactive batches        = 2.1075e+01 seconds\n",
      "   Time in active batches          = 1.1291e+02 seconds\n",
      "   Time synchronizing fission bank = 2.3621e-02 seconds\n",
      "     Sampling source sites         = 1.9121e-02 seconds\n",
      "     SEND/RECV source sites        = 4.4641e-03 seconds\n",
      "   Time accumulating tallies       = 1.0363e-02 seconds\n",
      "   Time writing statepoints        = 4.0048e-03 seconds\n",
      " Total time for finalization       = 9.0528e-05 seconds\n",
      " Total time elapsed                = 1.3549e+02 seconds\n",
      " Calculation Rate (inactive)       = 2372.53 particles/second\n",
      " Calculation Rate (active)         = 2214.08 particles/second\n",
      "\n",
      " ============================>     RESULTS     <============================\n",
      "\n",
      " k-effective (Collision)     = 0.90572 +/- 0.00186\n",
      " k-effective (Track-length)  = 0.90649 +/- 0.00151\n",
      " k-effective (Absorption)    = 0.90477 +/- 0.00258\n",
      " Combined k-effective        = 0.90614 +/- 0.00145\n",
      " Leakage Fraction            = 0.61797 +/- 0.00111\n",
      "\n"
     ]
    }
   ],
   "source": [
    "openmc.run()"
   ]
  },
  {
   "cell_type": "code",
   "execution_count": null,
   "id": "51aaff9d-74d3-4616-b61a-c3e42fd5a91f",
   "metadata": {},
   "outputs": [],
   "source": []
  }
 ],
 "metadata": {
  "kernelspec": {
   "display_name": "base",
   "language": "python",
   "name": "base"
  },
  "language_info": {
   "codemirror_mode": {
    "name": "ipython",
    "version": 3
   },
   "file_extension": ".py",
   "mimetype": "text/x-python",
   "name": "python",
   "nbconvert_exporter": "python",
   "pygments_lexer": "ipython3",
   "version": "3.8.10"
  }
 },
 "nbformat": 4,
 "nbformat_minor": 5
}
